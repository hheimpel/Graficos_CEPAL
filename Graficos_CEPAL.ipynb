{
 "cells": [
  {
   "cell_type": "markdown",
   "metadata": {},
   "source": [
    "# Gráficos CEPAL"
   ]
  },
  {
   "cell_type": "code",
   "execution_count": 1,
   "metadata": {},
   "outputs": [],
   "source": [
    "import xml.etree.ElementTree as ET\n",
    "\n",
    "tree_tamano_medio_hogares = ET.parse('Tamano_medio_hogares.xml')\n",
    "root = tree_tamano_medio_hogares.getroot()"
   ]
  },
  {
   "cell_type": "code",
   "execution_count": 2,
   "metadata": {},
   "outputs": [],
   "source": [
    "dims = ['País', 'Área geográfica', 'Quintil', 'Años']\n",
    "\n",
    "identifiers  = {k : {} for k in dims}\n",
    "\n",
    "for elem in root[2].iter():\n",
    "    d = elem.attrib\n",
    "    try:\n",
    "        if d['name'] in dims:\n",
    "            key = d['name']\n",
    "            continue\n",
    "        else:\n",
    "            identifiers[key][d['id']] = d['name']\n",
    "    except KeyError:\n",
    "        pass\n",
    "    "
   ]
  },
  {
   "cell_type": "code",
   "execution_count": 3,
   "metadata": {},
   "outputs": [],
   "source": [
    "dict_tamano_medio_hogares = {}\n",
    "\n",
    "dim_id = {'dim_208' : 'País',\n",
    "         'dim_326' : 'Área geográfica',\n",
    "         'dim_378' : 'Quintil',\n",
    "         'dim_29117' : 'Años',\n",
    "         'id_fuente' : 'id_fuente',\n",
    "         'ids_notas' : 'ids_notas',\n",
    "         'iso3' : 'iso3',\n",
    "         'valor' : 'valor'}\n",
    "\n",
    "for i, elem in enumerate(root[1].iter()):\n",
    "    if i > 0:\n",
    "        if i == 1:\n",
    "            for key, item in elem.attrib.items():\n",
    "                k = dim_id[key]\n",
    "                try: \n",
    "                    dict_tamano_medio_hogares[k] = [identifiers[k][item]]\n",
    "                except KeyError:\n",
    "                    dict_tamano_medio_hogares[k] = [item]\n",
    "        else:\n",
    "            for key, item in elem.attrib.items():\n",
    "                k = dim_id[key]\n",
    "                try:\n",
    "                    dict_tamano_medio_hogares[k].append(identifiers[k][item])\n",
    "                except KeyError:\n",
    "                    dict_tamano_medio_hogares[k].append(item)"
   ]
  },
  {
   "cell_type": "code",
   "execution_count": 38,
   "metadata": {},
   "outputs": [
    {
     "data": {
      "text/html": [
       "<div>\n",
       "<style scoped>\n",
       "    .dataframe tbody tr th:only-of-type {\n",
       "        vertical-align: middle;\n",
       "    }\n",
       "\n",
       "    .dataframe tbody tr th {\n",
       "        vertical-align: top;\n",
       "    }\n",
       "\n",
       "    .dataframe thead th {\n",
       "        text-align: right;\n",
       "    }\n",
       "</style>\n",
       "<table border=\"1\" class=\"dataframe\">\n",
       "  <thead>\n",
       "    <tr style=\"text-align: right;\">\n",
       "      <th></th>\n",
       "      <th>País</th>\n",
       "      <th>Área geográfica</th>\n",
       "      <th>Quintil</th>\n",
       "      <th>Años</th>\n",
       "      <th>id_fuente</th>\n",
       "      <th>ids_notas</th>\n",
       "      <th>iso3</th>\n",
       "      <th>valor</th>\n",
       "    </tr>\n",
       "  </thead>\n",
       "  <tbody>\n",
       "    <tr>\n",
       "      <th>0</th>\n",
       "      <td>América Latina (promedio simple)</td>\n",
       "      <td>Nacional</td>\n",
       "      <td>Quintil 1</td>\n",
       "      <td>2001</td>\n",
       "      <td>26</td>\n",
       "      <td>8620,7765</td>\n",
       "      <td></td>\n",
       "      <td>5.2</td>\n",
       "    </tr>\n",
       "    <tr>\n",
       "      <th>1</th>\n",
       "      <td>América Latina (promedio simple)</td>\n",
       "      <td>Nacional</td>\n",
       "      <td>Quintil 2</td>\n",
       "      <td>2001</td>\n",
       "      <td>26</td>\n",
       "      <td>8620,7765</td>\n",
       "      <td></td>\n",
       "      <td>4.8</td>\n",
       "    </tr>\n",
       "    <tr>\n",
       "      <th>2</th>\n",
       "      <td>América Latina (promedio simple)</td>\n",
       "      <td>Nacional</td>\n",
       "      <td>Quintil 3</td>\n",
       "      <td>2001</td>\n",
       "      <td>26</td>\n",
       "      <td>8620,7765</td>\n",
       "      <td></td>\n",
       "      <td>4.3</td>\n",
       "    </tr>\n",
       "    <tr>\n",
       "      <th>3</th>\n",
       "      <td>América Latina (promedio simple)</td>\n",
       "      <td>Nacional</td>\n",
       "      <td>Quintil 4</td>\n",
       "      <td>2001</td>\n",
       "      <td>26</td>\n",
       "      <td>8620,7765</td>\n",
       "      <td></td>\n",
       "      <td>3.8</td>\n",
       "    </tr>\n",
       "    <tr>\n",
       "      <th>4</th>\n",
       "      <td>América Latina (promedio simple)</td>\n",
       "      <td>Nacional</td>\n",
       "      <td>Quintil 5</td>\n",
       "      <td>2001</td>\n",
       "      <td>26</td>\n",
       "      <td>8620,7765</td>\n",
       "      <td></td>\n",
       "      <td>3.2</td>\n",
       "    </tr>\n",
       "    <tr>\n",
       "      <th>5</th>\n",
       "      <td>América Latina (promedio simple)</td>\n",
       "      <td>Nacional</td>\n",
       "      <td>Total quintiles</td>\n",
       "      <td>2001</td>\n",
       "      <td>26</td>\n",
       "      <td>8620,7765</td>\n",
       "      <td></td>\n",
       "      <td>4.3</td>\n",
       "    </tr>\n",
       "    <tr>\n",
       "      <th>6</th>\n",
       "      <td>América Latina (promedio simple)</td>\n",
       "      <td>Rural</td>\n",
       "      <td>Quintil 1</td>\n",
       "      <td>2001</td>\n",
       "      <td>26</td>\n",
       "      <td>8620,10395</td>\n",
       "      <td></td>\n",
       "      <td>5.7</td>\n",
       "    </tr>\n",
       "    <tr>\n",
       "      <th>7</th>\n",
       "      <td>América Latina (promedio simple)</td>\n",
       "      <td>Rural</td>\n",
       "      <td>Quintil 2</td>\n",
       "      <td>2001</td>\n",
       "      <td>26</td>\n",
       "      <td>8620,10395</td>\n",
       "      <td></td>\n",
       "      <td>5.2</td>\n",
       "    </tr>\n",
       "    <tr>\n",
       "      <th>8</th>\n",
       "      <td>América Latina (promedio simple)</td>\n",
       "      <td>Rural</td>\n",
       "      <td>Quintil 3</td>\n",
       "      <td>2001</td>\n",
       "      <td>26</td>\n",
       "      <td>8620,10395</td>\n",
       "      <td></td>\n",
       "      <td>4.8</td>\n",
       "    </tr>\n",
       "    <tr>\n",
       "      <th>9</th>\n",
       "      <td>América Latina (promedio simple)</td>\n",
       "      <td>Rural</td>\n",
       "      <td>Quintil 4</td>\n",
       "      <td>2001</td>\n",
       "      <td>26</td>\n",
       "      <td>8620,10395</td>\n",
       "      <td></td>\n",
       "      <td>4.2</td>\n",
       "    </tr>\n",
       "    <tr>\n",
       "      <th>10</th>\n",
       "      <td>América Latina (promedio simple)</td>\n",
       "      <td>Rural</td>\n",
       "      <td>Quintil 5</td>\n",
       "      <td>2001</td>\n",
       "      <td>26</td>\n",
       "      <td>8620,10395</td>\n",
       "      <td></td>\n",
       "      <td>3.3</td>\n",
       "    </tr>\n",
       "    <tr>\n",
       "      <th>11</th>\n",
       "      <td>América Latina (promedio simple)</td>\n",
       "      <td>Rural</td>\n",
       "      <td>Total quintiles</td>\n",
       "      <td>2001</td>\n",
       "      <td>26</td>\n",
       "      <td>8620,10395</td>\n",
       "      <td></td>\n",
       "      <td>4.6</td>\n",
       "    </tr>\n",
       "    <tr>\n",
       "      <th>12</th>\n",
       "      <td>América Latina (promedio simple)</td>\n",
       "      <td>Urbana</td>\n",
       "      <td>Quintil 1</td>\n",
       "      <td>2001</td>\n",
       "      <td>26</td>\n",
       "      <td>8620,7765</td>\n",
       "      <td></td>\n",
       "      <td>5</td>\n",
       "    </tr>\n",
       "    <tr>\n",
       "      <th>13</th>\n",
       "      <td>América Latina (promedio simple)</td>\n",
       "      <td>Urbana</td>\n",
       "      <td>Quintil 2</td>\n",
       "      <td>2001</td>\n",
       "      <td>26</td>\n",
       "      <td>8620,7765</td>\n",
       "      <td></td>\n",
       "      <td>4.6</td>\n",
       "    </tr>\n",
       "    <tr>\n",
       "      <th>14</th>\n",
       "      <td>América Latina (promedio simple)</td>\n",
       "      <td>Urbana</td>\n",
       "      <td>Quintil 3</td>\n",
       "      <td>2001</td>\n",
       "      <td>26</td>\n",
       "      <td>8620,7765</td>\n",
       "      <td></td>\n",
       "      <td>4.2</td>\n",
       "    </tr>\n",
       "    <tr>\n",
       "      <th>15</th>\n",
       "      <td>América Latina (promedio simple)</td>\n",
       "      <td>Urbana</td>\n",
       "      <td>Quintil 4</td>\n",
       "      <td>2001</td>\n",
       "      <td>26</td>\n",
       "      <td>8620,7765</td>\n",
       "      <td></td>\n",
       "      <td>3.7</td>\n",
       "    </tr>\n",
       "    <tr>\n",
       "      <th>16</th>\n",
       "      <td>América Latina (promedio simple)</td>\n",
       "      <td>Urbana</td>\n",
       "      <td>Quintil 5</td>\n",
       "      <td>2001</td>\n",
       "      <td>26</td>\n",
       "      <td>8620,7765</td>\n",
       "      <td></td>\n",
       "      <td>3.1</td>\n",
       "    </tr>\n",
       "    <tr>\n",
       "      <th>17</th>\n",
       "      <td>América Latina (promedio simple)</td>\n",
       "      <td>Urbana</td>\n",
       "      <td>Total quintiles</td>\n",
       "      <td>2001</td>\n",
       "      <td>26</td>\n",
       "      <td>8620,7765</td>\n",
       "      <td></td>\n",
       "      <td>4.1</td>\n",
       "    </tr>\n",
       "    <tr>\n",
       "      <th>18</th>\n",
       "      <td>América Latina (promedio simple)</td>\n",
       "      <td>Nacional</td>\n",
       "      <td>Quintil 1</td>\n",
       "      <td>2002</td>\n",
       "      <td>26</td>\n",
       "      <td>8620,7765</td>\n",
       "      <td></td>\n",
       "      <td>5.2</td>\n",
       "    </tr>\n",
       "    <tr>\n",
       "      <th>19</th>\n",
       "      <td>América Latina (promedio simple)</td>\n",
       "      <td>Nacional</td>\n",
       "      <td>Quintil 2</td>\n",
       "      <td>2002</td>\n",
       "      <td>26</td>\n",
       "      <td>8620,7765</td>\n",
       "      <td></td>\n",
       "      <td>4.7</td>\n",
       "    </tr>\n",
       "  </tbody>\n",
       "</table>\n",
       "</div>"
      ],
      "text/plain": [
       "                                País Área geográfica          Quintil  Años  \\\n",
       "0   América Latina (promedio simple)        Nacional        Quintil 1  2001   \n",
       "1   América Latina (promedio simple)        Nacional        Quintil 2  2001   \n",
       "2   América Latina (promedio simple)        Nacional        Quintil 3  2001   \n",
       "3   América Latina (promedio simple)        Nacional        Quintil 4  2001   \n",
       "4   América Latina (promedio simple)        Nacional        Quintil 5  2001   \n",
       "5   América Latina (promedio simple)        Nacional  Total quintiles  2001   \n",
       "6   América Latina (promedio simple)           Rural        Quintil 1  2001   \n",
       "7   América Latina (promedio simple)           Rural        Quintil 2  2001   \n",
       "8   América Latina (promedio simple)           Rural        Quintil 3  2001   \n",
       "9   América Latina (promedio simple)           Rural        Quintil 4  2001   \n",
       "10  América Latina (promedio simple)           Rural        Quintil 5  2001   \n",
       "11  América Latina (promedio simple)           Rural  Total quintiles  2001   \n",
       "12  América Latina (promedio simple)          Urbana        Quintil 1  2001   \n",
       "13  América Latina (promedio simple)          Urbana        Quintil 2  2001   \n",
       "14  América Latina (promedio simple)          Urbana        Quintil 3  2001   \n",
       "15  América Latina (promedio simple)          Urbana        Quintil 4  2001   \n",
       "16  América Latina (promedio simple)          Urbana        Quintil 5  2001   \n",
       "17  América Latina (promedio simple)          Urbana  Total quintiles  2001   \n",
       "18  América Latina (promedio simple)        Nacional        Quintil 1  2002   \n",
       "19  América Latina (promedio simple)        Nacional        Quintil 2  2002   \n",
       "\n",
       "   id_fuente   ids_notas iso3 valor  \n",
       "0         26   8620,7765        5.2  \n",
       "1         26   8620,7765        4.8  \n",
       "2         26   8620,7765        4.3  \n",
       "3         26   8620,7765        3.8  \n",
       "4         26   8620,7765        3.2  \n",
       "5         26   8620,7765        4.3  \n",
       "6         26  8620,10395        5.7  \n",
       "7         26  8620,10395        5.2  \n",
       "8         26  8620,10395        4.8  \n",
       "9         26  8620,10395        4.2  \n",
       "10        26  8620,10395        3.3  \n",
       "11        26  8620,10395        4.6  \n",
       "12        26   8620,7765          5  \n",
       "13        26   8620,7765        4.6  \n",
       "14        26   8620,7765        4.2  \n",
       "15        26   8620,7765        3.7  \n",
       "16        26   8620,7765        3.1  \n",
       "17        26   8620,7765        4.1  \n",
       "18        26   8620,7765        5.2  \n",
       "19        26   8620,7765        4.7  "
      ]
     },
     "execution_count": 38,
     "metadata": {},
     "output_type": "execute_result"
    }
   ],
   "source": [
    "import pandas as pd\n",
    "\n",
    "data_frame = pd.DataFrame(dict_tamano_medio_hogares)\n",
    "\n",
    "data_frame.head(20)"
   ]
  },
  {
   "cell_type": "code",
   "execution_count": 80,
   "metadata": {},
   "outputs": [
    {
     "data": {
      "application/vnd.plotly.v1+json": {
       "config": {
        "plotlyServerURL": "https://plot.ly"
       },
       "data": [
        {
         "name": "2002",
         "type": "bar",
         "x": [
          "Quintil 1",
          "Quintil 2",
          "Quintil 3",
          "Quintil 4",
          "Quintil 5",
          "Total quintiles"
         ],
         "y": [
          5.2,
          4.7,
          4.3,
          3.8,
          3.2,
          4.2
         ]
        },
        {
         "name": "2010",
         "type": "bar",
         "x": [
          "Quintil 1",
          "Quintil 2",
          "Quintil 3",
          "Quintil 4",
          "Quintil 5",
          "Total quintiles"
         ],
         "y": [
          4.8,
          4.3,
          3.9,
          3.5,
          2.9,
          3.9
         ]
        },
        {
         "name": "2019",
         "type": "bar",
         "x": [
          "Quintil 1",
          "Quintil 2",
          "Quintil 3",
          "Quintil 4",
          "Quintil 5",
          "Total quintiles"
         ],
         "y": [
          4.4,
          3.9,
          3.6,
          3.2,
          2.6,
          3.5
         ]
        }
       ],
       "layout": {
        "barmode": "group",
        "template": {
         "data": {
          "bar": [
           {
            "error_x": {
             "color": "#2a3f5f"
            },
            "error_y": {
             "color": "#2a3f5f"
            },
            "marker": {
             "line": {
              "color": "#E5ECF6",
              "width": 0.5
             }
            },
            "type": "bar"
           }
          ],
          "barpolar": [
           {
            "marker": {
             "line": {
              "color": "#E5ECF6",
              "width": 0.5
             }
            },
            "type": "barpolar"
           }
          ],
          "carpet": [
           {
            "aaxis": {
             "endlinecolor": "#2a3f5f",
             "gridcolor": "white",
             "linecolor": "white",
             "minorgridcolor": "white",
             "startlinecolor": "#2a3f5f"
            },
            "baxis": {
             "endlinecolor": "#2a3f5f",
             "gridcolor": "white",
             "linecolor": "white",
             "minorgridcolor": "white",
             "startlinecolor": "#2a3f5f"
            },
            "type": "carpet"
           }
          ],
          "choropleth": [
           {
            "colorbar": {
             "outlinewidth": 0,
             "ticks": ""
            },
            "type": "choropleth"
           }
          ],
          "contour": [
           {
            "colorbar": {
             "outlinewidth": 0,
             "ticks": ""
            },
            "colorscale": [
             [
              0,
              "#0d0887"
             ],
             [
              0.1111111111111111,
              "#46039f"
             ],
             [
              0.2222222222222222,
              "#7201a8"
             ],
             [
              0.3333333333333333,
              "#9c179e"
             ],
             [
              0.4444444444444444,
              "#bd3786"
             ],
             [
              0.5555555555555556,
              "#d8576b"
             ],
             [
              0.6666666666666666,
              "#ed7953"
             ],
             [
              0.7777777777777778,
              "#fb9f3a"
             ],
             [
              0.8888888888888888,
              "#fdca26"
             ],
             [
              1,
              "#f0f921"
             ]
            ],
            "type": "contour"
           }
          ],
          "contourcarpet": [
           {
            "colorbar": {
             "outlinewidth": 0,
             "ticks": ""
            },
            "type": "contourcarpet"
           }
          ],
          "heatmap": [
           {
            "colorbar": {
             "outlinewidth": 0,
             "ticks": ""
            },
            "colorscale": [
             [
              0,
              "#0d0887"
             ],
             [
              0.1111111111111111,
              "#46039f"
             ],
             [
              0.2222222222222222,
              "#7201a8"
             ],
             [
              0.3333333333333333,
              "#9c179e"
             ],
             [
              0.4444444444444444,
              "#bd3786"
             ],
             [
              0.5555555555555556,
              "#d8576b"
             ],
             [
              0.6666666666666666,
              "#ed7953"
             ],
             [
              0.7777777777777778,
              "#fb9f3a"
             ],
             [
              0.8888888888888888,
              "#fdca26"
             ],
             [
              1,
              "#f0f921"
             ]
            ],
            "type": "heatmap"
           }
          ],
          "heatmapgl": [
           {
            "colorbar": {
             "outlinewidth": 0,
             "ticks": ""
            },
            "colorscale": [
             [
              0,
              "#0d0887"
             ],
             [
              0.1111111111111111,
              "#46039f"
             ],
             [
              0.2222222222222222,
              "#7201a8"
             ],
             [
              0.3333333333333333,
              "#9c179e"
             ],
             [
              0.4444444444444444,
              "#bd3786"
             ],
             [
              0.5555555555555556,
              "#d8576b"
             ],
             [
              0.6666666666666666,
              "#ed7953"
             ],
             [
              0.7777777777777778,
              "#fb9f3a"
             ],
             [
              0.8888888888888888,
              "#fdca26"
             ],
             [
              1,
              "#f0f921"
             ]
            ],
            "type": "heatmapgl"
           }
          ],
          "histogram": [
           {
            "marker": {
             "colorbar": {
              "outlinewidth": 0,
              "ticks": ""
             }
            },
            "type": "histogram"
           }
          ],
          "histogram2d": [
           {
            "colorbar": {
             "outlinewidth": 0,
             "ticks": ""
            },
            "colorscale": [
             [
              0,
              "#0d0887"
             ],
             [
              0.1111111111111111,
              "#46039f"
             ],
             [
              0.2222222222222222,
              "#7201a8"
             ],
             [
              0.3333333333333333,
              "#9c179e"
             ],
             [
              0.4444444444444444,
              "#bd3786"
             ],
             [
              0.5555555555555556,
              "#d8576b"
             ],
             [
              0.6666666666666666,
              "#ed7953"
             ],
             [
              0.7777777777777778,
              "#fb9f3a"
             ],
             [
              0.8888888888888888,
              "#fdca26"
             ],
             [
              1,
              "#f0f921"
             ]
            ],
            "type": "histogram2d"
           }
          ],
          "histogram2dcontour": [
           {
            "colorbar": {
             "outlinewidth": 0,
             "ticks": ""
            },
            "colorscale": [
             [
              0,
              "#0d0887"
             ],
             [
              0.1111111111111111,
              "#46039f"
             ],
             [
              0.2222222222222222,
              "#7201a8"
             ],
             [
              0.3333333333333333,
              "#9c179e"
             ],
             [
              0.4444444444444444,
              "#bd3786"
             ],
             [
              0.5555555555555556,
              "#d8576b"
             ],
             [
              0.6666666666666666,
              "#ed7953"
             ],
             [
              0.7777777777777778,
              "#fb9f3a"
             ],
             [
              0.8888888888888888,
              "#fdca26"
             ],
             [
              1,
              "#f0f921"
             ]
            ],
            "type": "histogram2dcontour"
           }
          ],
          "mesh3d": [
           {
            "colorbar": {
             "outlinewidth": 0,
             "ticks": ""
            },
            "type": "mesh3d"
           }
          ],
          "parcoords": [
           {
            "line": {
             "colorbar": {
              "outlinewidth": 0,
              "ticks": ""
             }
            },
            "type": "parcoords"
           }
          ],
          "pie": [
           {
            "automargin": true,
            "type": "pie"
           }
          ],
          "scatter": [
           {
            "marker": {
             "colorbar": {
              "outlinewidth": 0,
              "ticks": ""
             }
            },
            "type": "scatter"
           }
          ],
          "scatter3d": [
           {
            "line": {
             "colorbar": {
              "outlinewidth": 0,
              "ticks": ""
             }
            },
            "marker": {
             "colorbar": {
              "outlinewidth": 0,
              "ticks": ""
             }
            },
            "type": "scatter3d"
           }
          ],
          "scattercarpet": [
           {
            "marker": {
             "colorbar": {
              "outlinewidth": 0,
              "ticks": ""
             }
            },
            "type": "scattercarpet"
           }
          ],
          "scattergeo": [
           {
            "marker": {
             "colorbar": {
              "outlinewidth": 0,
              "ticks": ""
             }
            },
            "type": "scattergeo"
           }
          ],
          "scattergl": [
           {
            "marker": {
             "colorbar": {
              "outlinewidth": 0,
              "ticks": ""
             }
            },
            "type": "scattergl"
           }
          ],
          "scattermapbox": [
           {
            "marker": {
             "colorbar": {
              "outlinewidth": 0,
              "ticks": ""
             }
            },
            "type": "scattermapbox"
           }
          ],
          "scatterpolar": [
           {
            "marker": {
             "colorbar": {
              "outlinewidth": 0,
              "ticks": ""
             }
            },
            "type": "scatterpolar"
           }
          ],
          "scatterpolargl": [
           {
            "marker": {
             "colorbar": {
              "outlinewidth": 0,
              "ticks": ""
             }
            },
            "type": "scatterpolargl"
           }
          ],
          "scatterternary": [
           {
            "marker": {
             "colorbar": {
              "outlinewidth": 0,
              "ticks": ""
             }
            },
            "type": "scatterternary"
           }
          ],
          "surface": [
           {
            "colorbar": {
             "outlinewidth": 0,
             "ticks": ""
            },
            "colorscale": [
             [
              0,
              "#0d0887"
             ],
             [
              0.1111111111111111,
              "#46039f"
             ],
             [
              0.2222222222222222,
              "#7201a8"
             ],
             [
              0.3333333333333333,
              "#9c179e"
             ],
             [
              0.4444444444444444,
              "#bd3786"
             ],
             [
              0.5555555555555556,
              "#d8576b"
             ],
             [
              0.6666666666666666,
              "#ed7953"
             ],
             [
              0.7777777777777778,
              "#fb9f3a"
             ],
             [
              0.8888888888888888,
              "#fdca26"
             ],
             [
              1,
              "#f0f921"
             ]
            ],
            "type": "surface"
           }
          ],
          "table": [
           {
            "cells": {
             "fill": {
              "color": "#EBF0F8"
             },
             "line": {
              "color": "white"
             }
            },
            "header": {
             "fill": {
              "color": "#C8D4E3"
             },
             "line": {
              "color": "white"
             }
            },
            "type": "table"
           }
          ]
         },
         "layout": {
          "annotationdefaults": {
           "arrowcolor": "#2a3f5f",
           "arrowhead": 0,
           "arrowwidth": 1
          },
          "autotypenumbers": "strict",
          "coloraxis": {
           "colorbar": {
            "outlinewidth": 0,
            "ticks": ""
           }
          },
          "colorscale": {
           "diverging": [
            [
             0,
             "#8e0152"
            ],
            [
             0.1,
             "#c51b7d"
            ],
            [
             0.2,
             "#de77ae"
            ],
            [
             0.3,
             "#f1b6da"
            ],
            [
             0.4,
             "#fde0ef"
            ],
            [
             0.5,
             "#f7f7f7"
            ],
            [
             0.6,
             "#e6f5d0"
            ],
            [
             0.7,
             "#b8e186"
            ],
            [
             0.8,
             "#7fbc41"
            ],
            [
             0.9,
             "#4d9221"
            ],
            [
             1,
             "#276419"
            ]
           ],
           "sequential": [
            [
             0,
             "#0d0887"
            ],
            [
             0.1111111111111111,
             "#46039f"
            ],
            [
             0.2222222222222222,
             "#7201a8"
            ],
            [
             0.3333333333333333,
             "#9c179e"
            ],
            [
             0.4444444444444444,
             "#bd3786"
            ],
            [
             0.5555555555555556,
             "#d8576b"
            ],
            [
             0.6666666666666666,
             "#ed7953"
            ],
            [
             0.7777777777777778,
             "#fb9f3a"
            ],
            [
             0.8888888888888888,
             "#fdca26"
            ],
            [
             1,
             "#f0f921"
            ]
           ],
           "sequentialminus": [
            [
             0,
             "#0d0887"
            ],
            [
             0.1111111111111111,
             "#46039f"
            ],
            [
             0.2222222222222222,
             "#7201a8"
            ],
            [
             0.3333333333333333,
             "#9c179e"
            ],
            [
             0.4444444444444444,
             "#bd3786"
            ],
            [
             0.5555555555555556,
             "#d8576b"
            ],
            [
             0.6666666666666666,
             "#ed7953"
            ],
            [
             0.7777777777777778,
             "#fb9f3a"
            ],
            [
             0.8888888888888888,
             "#fdca26"
            ],
            [
             1,
             "#f0f921"
            ]
           ]
          },
          "colorway": [
           "#636efa",
           "#EF553B",
           "#00cc96",
           "#ab63fa",
           "#FFA15A",
           "#19d3f3",
           "#FF6692",
           "#B6E880",
           "#FF97FF",
           "#FECB52"
          ],
          "font": {
           "color": "#2a3f5f"
          },
          "geo": {
           "bgcolor": "white",
           "lakecolor": "white",
           "landcolor": "#E5ECF6",
           "showlakes": true,
           "showland": true,
           "subunitcolor": "white"
          },
          "hoverlabel": {
           "align": "left"
          },
          "hovermode": "closest",
          "mapbox": {
           "style": "light"
          },
          "paper_bgcolor": "white",
          "plot_bgcolor": "#E5ECF6",
          "polar": {
           "angularaxis": {
            "gridcolor": "white",
            "linecolor": "white",
            "ticks": ""
           },
           "bgcolor": "#E5ECF6",
           "radialaxis": {
            "gridcolor": "white",
            "linecolor": "white",
            "ticks": ""
           }
          },
          "scene": {
           "xaxis": {
            "backgroundcolor": "#E5ECF6",
            "gridcolor": "white",
            "gridwidth": 2,
            "linecolor": "white",
            "showbackground": true,
            "ticks": "",
            "zerolinecolor": "white"
           },
           "yaxis": {
            "backgroundcolor": "#E5ECF6",
            "gridcolor": "white",
            "gridwidth": 2,
            "linecolor": "white",
            "showbackground": true,
            "ticks": "",
            "zerolinecolor": "white"
           },
           "zaxis": {
            "backgroundcolor": "#E5ECF6",
            "gridcolor": "white",
            "gridwidth": 2,
            "linecolor": "white",
            "showbackground": true,
            "ticks": "",
            "zerolinecolor": "white"
           }
          },
          "shapedefaults": {
           "line": {
            "color": "#2a3f5f"
           }
          },
          "ternary": {
           "aaxis": {
            "gridcolor": "white",
            "linecolor": "white",
            "ticks": ""
           },
           "baxis": {
            "gridcolor": "white",
            "linecolor": "white",
            "ticks": ""
           },
           "bgcolor": "#E5ECF6",
           "caxis": {
            "gridcolor": "white",
            "linecolor": "white",
            "ticks": ""
           }
          },
          "title": {
           "x": 0.05
          },
          "xaxis": {
           "automargin": true,
           "gridcolor": "white",
           "linecolor": "white",
           "ticks": "",
           "title": {
            "standoff": 15
           },
           "zerolinecolor": "white",
           "zerolinewidth": 2
          },
          "yaxis": {
           "automargin": true,
           "gridcolor": "white",
           "linecolor": "white",
           "ticks": "",
           "title": {
            "standoff": 15
           },
           "zerolinecolor": "white",
           "zerolinewidth": 2
          }
         }
        },
        "title": {
         "text": "América Latina (promedio simple)"
        }
       }
      },
      "text/html": [
       "<div>                            <div id=\"debf83bb-cacb-4cdf-a7a0-7ec71322a160\" class=\"plotly-graph-div\" style=\"height:525px; width:100%;\"></div>            <script type=\"text/javascript\">                require([\"plotly\"], function(Plotly) {                    window.PLOTLYENV=window.PLOTLYENV || {};                                    if (document.getElementById(\"debf83bb-cacb-4cdf-a7a0-7ec71322a160\")) {                    Plotly.newPlot(                        \"debf83bb-cacb-4cdf-a7a0-7ec71322a160\",                        [{\"name\": \"2002\", \"type\": \"bar\", \"x\": [\"Quintil 1\", \"Quintil 2\", \"Quintil 3\", \"Quintil 4\", \"Quintil 5\", \"Total quintiles\"], \"y\": [5.2, 4.7, 4.3, 3.8, 3.2, 4.2]}, {\"name\": \"2010\", \"type\": \"bar\", \"x\": [\"Quintil 1\", \"Quintil 2\", \"Quintil 3\", \"Quintil 4\", \"Quintil 5\", \"Total quintiles\"], \"y\": [4.8, 4.3, 3.9, 3.5, 2.9, 3.9]}, {\"name\": \"2019\", \"type\": \"bar\", \"x\": [\"Quintil 1\", \"Quintil 2\", \"Quintil 3\", \"Quintil 4\", \"Quintil 5\", \"Total quintiles\"], \"y\": [4.4, 3.9, 3.6, 3.2, 2.6, 3.5]}],                        {\"barmode\": \"group\", \"template\": {\"data\": {\"bar\": [{\"error_x\": {\"color\": \"#2a3f5f\"}, \"error_y\": {\"color\": \"#2a3f5f\"}, \"marker\": {\"line\": {\"color\": \"#E5ECF6\", \"width\": 0.5}}, \"type\": \"bar\"}], \"barpolar\": [{\"marker\": {\"line\": {\"color\": \"#E5ECF6\", \"width\": 0.5}}, \"type\": \"barpolar\"}], \"carpet\": [{\"aaxis\": {\"endlinecolor\": \"#2a3f5f\", \"gridcolor\": \"white\", \"linecolor\": \"white\", \"minorgridcolor\": \"white\", \"startlinecolor\": \"#2a3f5f\"}, \"baxis\": {\"endlinecolor\": \"#2a3f5f\", \"gridcolor\": \"white\", \"linecolor\": \"white\", \"minorgridcolor\": \"white\", \"startlinecolor\": \"#2a3f5f\"}, \"type\": \"carpet\"}], \"choropleth\": [{\"colorbar\": {\"outlinewidth\": 0, \"ticks\": \"\"}, \"type\": \"choropleth\"}], \"contour\": [{\"colorbar\": {\"outlinewidth\": 0, \"ticks\": \"\"}, \"colorscale\": [[0.0, \"#0d0887\"], [0.1111111111111111, \"#46039f\"], [0.2222222222222222, \"#7201a8\"], [0.3333333333333333, \"#9c179e\"], [0.4444444444444444, \"#bd3786\"], [0.5555555555555556, \"#d8576b\"], [0.6666666666666666, \"#ed7953\"], [0.7777777777777778, \"#fb9f3a\"], [0.8888888888888888, \"#fdca26\"], [1.0, \"#f0f921\"]], \"type\": \"contour\"}], \"contourcarpet\": [{\"colorbar\": {\"outlinewidth\": 0, \"ticks\": \"\"}, \"type\": \"contourcarpet\"}], \"heatmap\": [{\"colorbar\": {\"outlinewidth\": 0, \"ticks\": \"\"}, \"colorscale\": [[0.0, \"#0d0887\"], [0.1111111111111111, \"#46039f\"], [0.2222222222222222, \"#7201a8\"], [0.3333333333333333, \"#9c179e\"], [0.4444444444444444, \"#bd3786\"], [0.5555555555555556, \"#d8576b\"], [0.6666666666666666, \"#ed7953\"], [0.7777777777777778, \"#fb9f3a\"], [0.8888888888888888, \"#fdca26\"], [1.0, \"#f0f921\"]], \"type\": \"heatmap\"}], \"heatmapgl\": [{\"colorbar\": {\"outlinewidth\": 0, \"ticks\": \"\"}, \"colorscale\": [[0.0, \"#0d0887\"], [0.1111111111111111, \"#46039f\"], [0.2222222222222222, \"#7201a8\"], [0.3333333333333333, \"#9c179e\"], [0.4444444444444444, \"#bd3786\"], [0.5555555555555556, \"#d8576b\"], [0.6666666666666666, \"#ed7953\"], [0.7777777777777778, \"#fb9f3a\"], [0.8888888888888888, \"#fdca26\"], [1.0, \"#f0f921\"]], \"type\": \"heatmapgl\"}], \"histogram\": [{\"marker\": {\"colorbar\": {\"outlinewidth\": 0, \"ticks\": \"\"}}, \"type\": \"histogram\"}], \"histogram2d\": [{\"colorbar\": {\"outlinewidth\": 0, \"ticks\": \"\"}, \"colorscale\": [[0.0, \"#0d0887\"], [0.1111111111111111, \"#46039f\"], [0.2222222222222222, \"#7201a8\"], [0.3333333333333333, \"#9c179e\"], [0.4444444444444444, \"#bd3786\"], [0.5555555555555556, \"#d8576b\"], [0.6666666666666666, \"#ed7953\"], [0.7777777777777778, \"#fb9f3a\"], [0.8888888888888888, \"#fdca26\"], [1.0, \"#f0f921\"]], \"type\": \"histogram2d\"}], \"histogram2dcontour\": [{\"colorbar\": {\"outlinewidth\": 0, \"ticks\": \"\"}, \"colorscale\": [[0.0, \"#0d0887\"], [0.1111111111111111, \"#46039f\"], [0.2222222222222222, \"#7201a8\"], [0.3333333333333333, \"#9c179e\"], [0.4444444444444444, \"#bd3786\"], [0.5555555555555556, \"#d8576b\"], [0.6666666666666666, \"#ed7953\"], [0.7777777777777778, \"#fb9f3a\"], [0.8888888888888888, \"#fdca26\"], [1.0, \"#f0f921\"]], \"type\": \"histogram2dcontour\"}], \"mesh3d\": [{\"colorbar\": {\"outlinewidth\": 0, \"ticks\": \"\"}, \"type\": \"mesh3d\"}], \"parcoords\": [{\"line\": {\"colorbar\": {\"outlinewidth\": 0, \"ticks\": \"\"}}, \"type\": \"parcoords\"}], \"pie\": [{\"automargin\": true, \"type\": \"pie\"}], \"scatter\": [{\"marker\": {\"colorbar\": {\"outlinewidth\": 0, \"ticks\": \"\"}}, \"type\": \"scatter\"}], \"scatter3d\": [{\"line\": {\"colorbar\": {\"outlinewidth\": 0, \"ticks\": \"\"}}, \"marker\": {\"colorbar\": {\"outlinewidth\": 0, \"ticks\": \"\"}}, \"type\": \"scatter3d\"}], \"scattercarpet\": [{\"marker\": {\"colorbar\": {\"outlinewidth\": 0, \"ticks\": \"\"}}, \"type\": \"scattercarpet\"}], \"scattergeo\": [{\"marker\": {\"colorbar\": {\"outlinewidth\": 0, \"ticks\": \"\"}}, \"type\": \"scattergeo\"}], \"scattergl\": [{\"marker\": {\"colorbar\": {\"outlinewidth\": 0, \"ticks\": \"\"}}, \"type\": \"scattergl\"}], \"scattermapbox\": [{\"marker\": {\"colorbar\": {\"outlinewidth\": 0, \"ticks\": \"\"}}, \"type\": \"scattermapbox\"}], \"scatterpolar\": [{\"marker\": {\"colorbar\": {\"outlinewidth\": 0, \"ticks\": \"\"}}, \"type\": \"scatterpolar\"}], \"scatterpolargl\": [{\"marker\": {\"colorbar\": {\"outlinewidth\": 0, \"ticks\": \"\"}}, \"type\": \"scatterpolargl\"}], \"scatterternary\": [{\"marker\": {\"colorbar\": {\"outlinewidth\": 0, \"ticks\": \"\"}}, \"type\": \"scatterternary\"}], \"surface\": [{\"colorbar\": {\"outlinewidth\": 0, \"ticks\": \"\"}, \"colorscale\": [[0.0, \"#0d0887\"], [0.1111111111111111, \"#46039f\"], [0.2222222222222222, \"#7201a8\"], [0.3333333333333333, \"#9c179e\"], [0.4444444444444444, \"#bd3786\"], [0.5555555555555556, \"#d8576b\"], [0.6666666666666666, \"#ed7953\"], [0.7777777777777778, \"#fb9f3a\"], [0.8888888888888888, \"#fdca26\"], [1.0, \"#f0f921\"]], \"type\": \"surface\"}], \"table\": [{\"cells\": {\"fill\": {\"color\": \"#EBF0F8\"}, \"line\": {\"color\": \"white\"}}, \"header\": {\"fill\": {\"color\": \"#C8D4E3\"}, \"line\": {\"color\": \"white\"}}, \"type\": \"table\"}]}, \"layout\": {\"annotationdefaults\": {\"arrowcolor\": \"#2a3f5f\", \"arrowhead\": 0, \"arrowwidth\": 1}, \"autotypenumbers\": \"strict\", \"coloraxis\": {\"colorbar\": {\"outlinewidth\": 0, \"ticks\": \"\"}}, \"colorscale\": {\"diverging\": [[0, \"#8e0152\"], [0.1, \"#c51b7d\"], [0.2, \"#de77ae\"], [0.3, \"#f1b6da\"], [0.4, \"#fde0ef\"], [0.5, \"#f7f7f7\"], [0.6, \"#e6f5d0\"], [0.7, \"#b8e186\"], [0.8, \"#7fbc41\"], [0.9, \"#4d9221\"], [1, \"#276419\"]], \"sequential\": [[0.0, \"#0d0887\"], [0.1111111111111111, \"#46039f\"], [0.2222222222222222, \"#7201a8\"], [0.3333333333333333, \"#9c179e\"], [0.4444444444444444, \"#bd3786\"], [0.5555555555555556, \"#d8576b\"], [0.6666666666666666, \"#ed7953\"], [0.7777777777777778, \"#fb9f3a\"], [0.8888888888888888, \"#fdca26\"], [1.0, \"#f0f921\"]], \"sequentialminus\": [[0.0, \"#0d0887\"], [0.1111111111111111, \"#46039f\"], [0.2222222222222222, \"#7201a8\"], [0.3333333333333333, \"#9c179e\"], [0.4444444444444444, \"#bd3786\"], [0.5555555555555556, \"#d8576b\"], [0.6666666666666666, \"#ed7953\"], [0.7777777777777778, \"#fb9f3a\"], [0.8888888888888888, \"#fdca26\"], [1.0, \"#f0f921\"]]}, \"colorway\": [\"#636efa\", \"#EF553B\", \"#00cc96\", \"#ab63fa\", \"#FFA15A\", \"#19d3f3\", \"#FF6692\", \"#B6E880\", \"#FF97FF\", \"#FECB52\"], \"font\": {\"color\": \"#2a3f5f\"}, \"geo\": {\"bgcolor\": \"white\", \"lakecolor\": \"white\", \"landcolor\": \"#E5ECF6\", \"showlakes\": true, \"showland\": true, \"subunitcolor\": \"white\"}, \"hoverlabel\": {\"align\": \"left\"}, \"hovermode\": \"closest\", \"mapbox\": {\"style\": \"light\"}, \"paper_bgcolor\": \"white\", \"plot_bgcolor\": \"#E5ECF6\", \"polar\": {\"angularaxis\": {\"gridcolor\": \"white\", \"linecolor\": \"white\", \"ticks\": \"\"}, \"bgcolor\": \"#E5ECF6\", \"radialaxis\": {\"gridcolor\": \"white\", \"linecolor\": \"white\", \"ticks\": \"\"}}, \"scene\": {\"xaxis\": {\"backgroundcolor\": \"#E5ECF6\", \"gridcolor\": \"white\", \"gridwidth\": 2, \"linecolor\": \"white\", \"showbackground\": true, \"ticks\": \"\", \"zerolinecolor\": \"white\"}, \"yaxis\": {\"backgroundcolor\": \"#E5ECF6\", \"gridcolor\": \"white\", \"gridwidth\": 2, \"linecolor\": \"white\", \"showbackground\": true, \"ticks\": \"\", \"zerolinecolor\": \"white\"}, \"zaxis\": {\"backgroundcolor\": \"#E5ECF6\", \"gridcolor\": \"white\", \"gridwidth\": 2, \"linecolor\": \"white\", \"showbackground\": true, \"ticks\": \"\", \"zerolinecolor\": \"white\"}}, \"shapedefaults\": {\"line\": {\"color\": \"#2a3f5f\"}}, \"ternary\": {\"aaxis\": {\"gridcolor\": \"white\", \"linecolor\": \"white\", \"ticks\": \"\"}, \"baxis\": {\"gridcolor\": \"white\", \"linecolor\": \"white\", \"ticks\": \"\"}, \"bgcolor\": \"#E5ECF6\", \"caxis\": {\"gridcolor\": \"white\", \"linecolor\": \"white\", \"ticks\": \"\"}}, \"title\": {\"x\": 0.05}, \"xaxis\": {\"automargin\": true, \"gridcolor\": \"white\", \"linecolor\": \"white\", \"ticks\": \"\", \"title\": {\"standoff\": 15}, \"zerolinecolor\": \"white\", \"zerolinewidth\": 2}, \"yaxis\": {\"automargin\": true, \"gridcolor\": \"white\", \"linecolor\": \"white\", \"ticks\": \"\", \"title\": {\"standoff\": 15}, \"zerolinecolor\": \"white\", \"zerolinewidth\": 2}}}, \"title\": {\"text\": \"Am\\u00e9rica Latina (promedio simple)\"}},                        {\"responsive\": true}                    ).then(function(){\n",
       "                            \n",
       "var gd = document.getElementById('debf83bb-cacb-4cdf-a7a0-7ec71322a160');\n",
       "var x = new MutationObserver(function (mutations, observer) {{\n",
       "        var display = window.getComputedStyle(gd).display;\n",
       "        if (!display || display === 'none') {{\n",
       "            console.log([gd, 'removed!']);\n",
       "            Plotly.purge(gd);\n",
       "            observer.disconnect();\n",
       "        }}\n",
       "}});\n",
       "\n",
       "// Listen for the removal of the full notebook cells\n",
       "var notebookContainer = gd.closest('#notebook-container');\n",
       "if (notebookContainer) {{\n",
       "    x.observe(notebookContainer, {childList: true});\n",
       "}}\n",
       "\n",
       "// Listen for the clearing of the current output cell\n",
       "var outputEl = gd.closest('.output');\n",
       "if (outputEl) {{\n",
       "    x.observe(outputEl, {childList: true});\n",
       "}}\n",
       "\n",
       "                        })                };                });            </script>        </div>"
      ]
     },
     "metadata": {},
     "output_type": "display_data"
    }
   ],
   "source": [
    "import plotly.graph_objects as go\n",
    "import warnings\n",
    "warnings.filterwarnings(\"ignore\")\n",
    "\n",
    "data_frame[\"Años\"] = data_frame[\"Años\"].astype(dtype='intc')\n",
    "data_frame[\"valor\"] = data_frame[\"valor\"].astype(dtype='float64')\n",
    "\n",
    "#User input\n",
    "desagregacion = [\"Área geográfica\", \"Quintil\"]\n",
    "paises = list(data_frame['País'].unique())\n",
    "\n",
    "#Desagregaciones\n",
    "anios = sorted(list(map(int,data_frame['Años'].unique())))\n",
    "years = [2002,2010,2019]\n",
    "quintiles = list(data_frame[\"Quintil\"].unique())\n",
    "area = list(data_frame[\"Área geográfica\"].unique())\n",
    "\n",
    "filt = data_frame[\n",
    "    (data_frame[\"País\"]==\"América Latina (promedio simple)\") &\n",
    "    (data_frame[\"Área geográfica\"]==\"Nacional\") &\n",
    "    (data_frame[\"Años\"].isin(years))\n",
    "    ]\n",
    "\n",
    "fig = go.Figure(data=[\n",
    "go.Bar(name=str(year),\n",
    "       x=quintiles,\n",
    "       y=filt[data_frame[\"Años\"]==year]['valor']) for year in years\n",
    "])\n",
    "\n",
    "fig.update_layout(title_text='América Latina (promedio simple)',\n",
    "                  barmode='group')\n",
    "fig.show()"
   ]
  },
  {
   "cell_type": "code",
   "execution_count": 5,
   "metadata": {},
   "outputs": [],
   "source": [
    "data_frame[['Años','valor']] = data_frame[['Años','valor']].astype(dtype='float64')\n",
    "\n",
    "filtered_year = data_frame[(data_frame['Años']==2002) |\n",
    "                           (data_frame['Años']==2010) |\n",
    "                           (data_frame['Años']==2019) ] \n",
    "\n",
    "filtered_year.to_csv('Databases/tamano_hogar.csv', index=False)\n",
    "#gr_pais_v = data_frame.groupby(['País','Quintil']).mean()\n",
    "\n",
    "#gr_pais_v.head(114)"
   ]
  },
  {
   "cell_type": "code",
   "execution_count": 81,
   "metadata": {},
   "outputs": [
    {
     "name": "stdout",
     "output_type": "stream",
     "text": [
      "Dash is running on http://127.0.0.1:8050/\n",
      "\n",
      "Dash is running on http://127.0.0.1:8050/\n",
      "\n",
      "Dash is running on http://127.0.0.1:8050/\n",
      "\n",
      "Dash is running on http://127.0.0.1:8050/\n",
      "\n",
      "Dash is running on http://127.0.0.1:8050/\n",
      "\n",
      "Dash is running on http://127.0.0.1:8050/\n",
      "\n",
      "Dash is running on http://127.0.0.1:8050/\n",
      "\n",
      "Dash is running on http://127.0.0.1:8050/\n",
      "\n",
      "Dash is running on http://127.0.0.1:8050/\n",
      "\n",
      "Dash is running on http://127.0.0.1:8050/\n",
      "\n",
      "Dash is running on http://127.0.0.1:8050/\n",
      "\n",
      "Dash is running on http://127.0.0.1:8050/\n",
      "\n",
      "Dash is running on http://127.0.0.1:8050/\n",
      "\n",
      "Dash is running on http://127.0.0.1:8050/\n",
      "\n",
      "Dash is running on http://127.0.0.1:8050/\n",
      "\n",
      "Dash is running on http://127.0.0.1:8050/\n",
      "\n",
      "Dash is running on http://127.0.0.1:8050/\n",
      "\n",
      "Dash is running on http://127.0.0.1:8050/\n",
      "\n",
      "Dash is running on http://127.0.0.1:8050/\n",
      "\n",
      "Dash is running on http://127.0.0.1:8050/\n",
      "\n",
      " * Serving Flask app \"__main__\" (lazy loading)\n",
      " * Environment: production\n",
      "   WARNING: This is a development server. Do not use it in a production deployment.\n",
      "   Use a production WSGI server instead.\n",
      " * Debug mode: on\n"
     ]
    }
   ],
   "source": [
    "#pip install dash dash-renderer dash-html-components dash-core-components plotly\n",
    "\n",
    "import dash\n",
    "from dash.dependencies import Input, Output\n",
    "import dash_core_components as dcc\n",
    "import dash_html_components as html\n",
    "import plotly.graph_objects as go\n",
    "import warnings\n",
    "warnings.filterwarnings(\"ignore\")\n",
    "\n",
    "app = dash.Dash()\n",
    "\n",
    "app.layout= html.Div(children=[\n",
    "    html.H1('Tamaño medio del hogar'), #Header 1 - Children 1\n",
    "    dcc.Dropdown( #Dropdown\n",
    "        id='input_country', #Identify dash component in callback\n",
    "        options = [{'label' : c, 'value' : c} for c in paises], #dropdown options\n",
    "        placeholder ='Seleccionar País o Región'\n",
    "    ),  #Output - Children 3\n",
    "    dcc.Dropdown( #Dropdown\n",
    "        id='input_dim', \n",
    "        options = [{'label' : c, 'value' : c} for c in [\"Quintil\", \"Área geográfica\"]], \n",
    "        placeholder ='Seleccionar desagregación'\n",
    "    ),\n",
    "    dcc.Graph(id='Graph')\n",
    "    ]) \n",
    "\n",
    "@app.callback(\n",
    "    Output('Graph','figure'),\n",
    "    Input('input_country','value'),\n",
    "    Input('input_dim', 'value')\n",
    "    )\n",
    "\n",
    "def update_graph(country, dim):\n",
    "\n",
    "    if dim == 'Quintil':\n",
    "        \n",
    "        filt = data_frame[\n",
    "            (data_frame[\"País\"]==country) &\n",
    "            (data_frame[\"Área geográfica\"]==\"Nacional\") &\n",
    "            (data_frame[\"Años\"].isin(years))\n",
    "            ]\n",
    "        \n",
    "        x_d = quintiles\n",
    "        \n",
    "    else:\n",
    "        \n",
    "        filt = data_frame[\n",
    "            (data_frame[\"País\"]==country) &\n",
    "            (data_frame[\"Quintil\"]==\"Total quintiles\") &\n",
    "            (data_frame[\"Años\"].isin(years))\n",
    "            ]\n",
    "            \n",
    "        x_d = area\n",
    "            \n",
    "    fig = go.Figure(data=[\n",
    "    go.Bar(name=str(year),\n",
    "           x=x_d,\n",
    "           y=filt[data_frame[\"Años\"]==year]['valor']) for year in years\n",
    "    ])\n",
    "\n",
    "    fig.update_layout(title_text=country,\n",
    "                      barmode='group')\n",
    "    \n",
    "    return fig\n",
    "\n",
    "if __name__ == '__main__':\n",
    "    app.run_server(debug=True, use_reloader=False)"
   ]
  },
  {
   "cell_type": "code",
   "execution_count": 64,
   "metadata": {},
   "outputs": [],
   "source": [
    "dcc.Dropdown?"
   ]
  },
  {
   "cell_type": "code",
   "execution_count": null,
   "metadata": {},
   "outputs": [],
   "source": []
  }
 ],
 "metadata": {
  "kernelspec": {
   "display_name": "Python 3",
   "language": "python",
   "name": "python3"
  },
  "language_info": {
   "codemirror_mode": {
    "name": "ipython",
    "version": 3
   },
   "file_extension": ".py",
   "mimetype": "text/x-python",
   "name": "python",
   "nbconvert_exporter": "python",
   "pygments_lexer": "ipython3",
   "version": "3.7.7"
  }
 },
 "nbformat": 4,
 "nbformat_minor": 4
}
